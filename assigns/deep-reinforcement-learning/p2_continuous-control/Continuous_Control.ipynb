{
 "cells": [
  {
   "cell_type": "markdown",
   "metadata": {},
   "source": [
    "# Continuous Control\n",
    "\n",
    "---\n",
    "\n",
    "You are welcome to use this coding environment to train your agent for the project.  Follow the instructions below to get started!\n",
    "\n",
    "### 1. Start the Environment\n",
    "\n",
    "Run the next code cell to install a few packages.  This line will take a few minutes to run!"
   ]
  },
  {
   "cell_type": "code",
   "execution_count": 1,
   "metadata": {},
   "outputs": [],
   "source": [
    "!pip -q install ./python"
   ]
  },
  {
   "cell_type": "markdown",
   "metadata": {},
   "source": [
    "The environments corresponding to both versions of the environment are already saved in the Workspace and can be accessed at the file paths provided below.  \n",
    "\n",
    "Please select one of the two options below for loading the environment."
   ]
  },
  {
   "cell_type": "code",
   "execution_count": 1,
   "metadata": {},
   "outputs": [
    {
     "name": "stderr",
     "output_type": "stream",
     "text": [
      "INFO:unityagents:\n",
      "'Academy' started successfully!\n",
      "Unity Academy name: Academy\n",
      "        Number of Brains: 1\n",
      "        Number of External Brains : 1\n",
      "        Lesson number : 0\n",
      "        Reset Parameters :\n",
      "\t\tgoal_size -> 5.0\n",
      "\t\tgoal_speed -> 1.0\n",
      "Unity brain name: ReacherBrain\n",
      "        Number of Visual Observations (per agent): 0\n",
      "        Vector Observation space type: continuous\n",
      "        Vector Observation space size (per agent): 33\n",
      "        Number of stacked Vector Observation: 1\n",
      "        Vector Action space type: continuous\n",
      "        Vector Action space size (per agent): 4\n",
      "        Vector Action descriptions: , , , \n"
     ]
    }
   ],
   "source": [
    "from unityagents import UnityEnvironment\n",
    "import numpy as np\n",
    "\n",
    "%matplotlib inline\n",
    "import matplotlib.pyplot as plt\n",
    "\n",
    "# select this option to load version 1 (with a single agent) of the environment\n",
    "env = UnityEnvironment(file_name='./data/Reacher_Linux_NoVis/Reacher.x86_64')\n",
    "\n",
    "# select this option to load version 2 (with 20 agents) of the environment\n",
    "# env = UnityEnvironment(file_name='/data/Reacher_Linux_NoVis/Reacher.x86_64')"
   ]
  },
  {
   "cell_type": "markdown",
   "metadata": {},
   "source": [
    "Environments contain **_brains_** which are responsible for deciding the actions of their associated agents. Here we check for the first brain available, and set it as the default brain we will be controlling from Python."
   ]
  },
  {
   "cell_type": "code",
   "execution_count": 2,
   "metadata": {},
   "outputs": [],
   "source": [
    "# get the default brain\n",
    "brain_name = env.brain_names[0]\n",
    "brain = env.brains[brain_name]"
   ]
  },
  {
   "cell_type": "markdown",
   "metadata": {},
   "source": [
    "### 2. Examine the State and Action Spaces\n",
    "\n",
    "Run the code cell below to print some information about the environment."
   ]
  },
  {
   "cell_type": "code",
   "execution_count": 3,
   "metadata": {},
   "outputs": [
    {
     "name": "stdout",
     "output_type": "stream",
     "text": [
      "Number of agents: 20\n",
      "Size of each action: 4\n",
      "There are 20 agents. Each observes a state with length: 33\n",
      "The state for the first agent looks like: [ 0.00000000e+00 -4.00000000e+00  0.00000000e+00  1.00000000e+00\n",
      " -0.00000000e+00 -0.00000000e+00 -4.37113883e-08  0.00000000e+00\n",
      "  0.00000000e+00  0.00000000e+00  0.00000000e+00  0.00000000e+00\n",
      "  0.00000000e+00  0.00000000e+00 -1.00000000e+01  0.00000000e+00\n",
      "  1.00000000e+00 -0.00000000e+00 -0.00000000e+00 -4.37113883e-08\n",
      "  0.00000000e+00  0.00000000e+00  0.00000000e+00  0.00000000e+00\n",
      "  0.00000000e+00  0.00000000e+00  5.75471878e+00 -1.00000000e+00\n",
      "  5.55726624e+00  0.00000000e+00  1.00000000e+00  0.00000000e+00\n",
      " -1.68164849e-01]\n"
     ]
    }
   ],
   "source": [
    "# reset the environment\n",
    "env_info = env.reset(train_mode=True)[brain_name]\n",
    "\n",
    "# number of agents\n",
    "num_agents = len(env_info.agents)\n",
    "print('Number of agents:', num_agents)\n",
    "\n",
    "# size of each action\n",
    "action_size = brain.vector_action_space_size\n",
    "print('Size of each action:', action_size)\n",
    "\n",
    "# examine the state space \n",
    "states = env_info.vector_observations\n",
    "state_size = states.shape[1]\n",
    "print('There are {} agents. Each observes a state with length: {}'.format(states.shape[0], state_size))\n",
    "print('The state for the first agent looks like:', states[0])"
   ]
  },
  {
   "cell_type": "markdown",
   "metadata": {},
   "source": [
    "### 3. Take Random Actions in the Environment\n",
    "\n",
    "In the next code cell, you will learn how to use the Python API to control the agent and receive feedback from the environment.\n",
    "\n",
    "Note that **in this coding environment, you will not be able to watch the agents while they are training**, and you should set `train_mode=True` to restart the environment."
   ]
  },
  {
   "cell_type": "code",
   "execution_count": 6,
   "metadata": {},
   "outputs": [
    {
     "name": "stdout",
     "output_type": "stream",
     "text": [
      "Total score (averaged over agents) this episode: 0.0754999983124435\n"
     ]
    }
   ],
   "source": [
    "env_info = env.reset(train_mode=True)[brain_name]      # reset the environment    \n",
    "states = env_info.vector_observations                  # get the current state (for each agent)\n",
    "scores = np.zeros(num_agents)                          # initialize the score (for each agent)\n",
    "while True:\n",
    "    actions = np.random.randn(num_agents, action_size) # select an action (for each agent)\n",
    "    actions = np.clip(actions, -1, 1)                  # all actions between -1 and 1\n",
    "    env_info = env.step(actions)[brain_name]           # send all actions to tne environment\n",
    "    next_states = env_info.vector_observations         # get next state (for each agent)\n",
    "    rewards = env_info.rewards                         # get reward (for each agent)\n",
    "    dones = env_info.local_done                        # see if episode finished\n",
    "    scores += env_info.rewards                         # update the score (for each agent)\n",
    "    states = next_states                               # roll over states to next time step\n",
    "    if np.any(dones):                                  # exit loop if episode finished\n",
    "        break\n",
    "print('Total score (averaged over agents) this episode: {}'.format(np.mean(scores)))"
   ]
  },
  {
   "cell_type": "markdown",
   "metadata": {},
   "source": [
    "When finished, you can close the environment."
   ]
  },
  {
   "cell_type": "markdown",
   "metadata": {},
   "source": [
    "### 4. It's Your Turn!\n",
    "\n",
    "Now it's your turn to train your own agent to solve the environment!  A few **important notes**:\n",
    "- When training the environment, set `train_mode=True`, so that the line for resetting the environment looks like the following:\n",
    "```python\n",
    "env_info = env.reset(train_mode=True)[brain_name]\n",
    "```\n",
    "- To structure your work, you're welcome to work directly in this Jupyter notebook, or you might like to start over with a new file!  You can see the list of files in the workspace by clicking on **_Jupyter_** in the top left corner of the notebook.\n",
    "- In this coding environment, you will not be able to watch the agents while they are training.  However, **_after training the agents_**, you can download the saved model weights to watch the agents on your own machine! "
   ]
  },
  {
   "cell_type": "code",
   "execution_count": 4,
   "metadata": {},
   "outputs": [],
   "source": [
    "#Use Deep - Deterministic Policy Gradient\n",
    "from collections import deque\n",
    "import torch\n",
    "\n",
    "def train_ddpg(n_episodes=500, max_iters=1000, target_score=30.0, status_episode=1,\n",
    "               actor_path='actor_ckpt.pth', critic_path='critic_ckpt.pth'):\n",
    "    \"\"\"\n",
    "    @param: n_episodes[int]: max number of episodes to train the agent\n",
    "    @param: max_iters[int]: number of iteration in single episode\n",
    "    @param: target_score[float]: score to be considered as solved\n",
    "    @param: status_episode[int]: print output every n episodes\n",
    "    @param: actor_weights[str]: location of weight files for actor model\n",
    "    @param: critic_weights[str]: location of weights file for critic model\n",
    "    \"\"\"\n",
    "    mscores, queue_len = [], 100                                                          \n",
    "    bscore, should_train = -np.inf, True\n",
    "    scores_window = deque(maxlen=queue_len)  \n",
    "    ravg = []                               \n",
    "    \n",
    "    for episode in range(1, n_episodes+1):\n",
    "        env_info = env.reset(train_mode=should_train)[brain_name] # reset environment\n",
    "        states = env_info.vector_observations                   # get current state for each agent      \n",
    "        scores = np.zeros(num_agents)                           # initialize score for each agent\n",
    "        agent.reset()\n",
    "        for t in range(max_iters):\n",
    "            actions = agent.act(states, add_noise=True)        \n",
    "            env_info = env.step(actions)[brain_name]           \n",
    "            next_states = env_info.vector_observations          \n",
    "            rewards = env_info.rewards                          \n",
    "            dones = env_info.local_done\n",
    "            for state, action, reward, next_state, done in zip(states, actions, rewards, next_states, dones):\n",
    "                # step agent for interaction (SARS - pair)\n",
    "                agent.step(state, action, reward, next_state, done, t)             \n",
    "            states = next_states\n",
    "            scores += rewards\n",
    "            #if done, exit current episode\n",
    "            if np.any(dones):\n",
    "                break      \n",
    "        mscores.append(np.mean(scores))          \n",
    "        scores_window.append(mscores[-1])         \n",
    "        ravg.append(np.mean(scores_window))\n",
    "                \n",
    "        if episode % status_episode == 0:\n",
    "            print('episode no: {} \\tmean score: {:.1f}\\trunning average score over({}): {:.1f}'.format(\\\n",
    "                  episode, mscores[-1], len(scores_window), ravg[-1]))\n",
    "        \n",
    "        #Save the model if the mean score is the current best score\n",
    "        if mscores[-1] > bscore:\n",
    "            torch.save(agent.actor_local.state_dict(), actor_path)\n",
    "            torch.save(agent.critic_local.state_dict(), critic_path)\n",
    "            bscore = mscores[-1]\n",
    "                  \n",
    "        if ravg[-1] >= target_score and episode >= queue_len:\n",
    "            print('Env solved in {} episodes! with moving average of {:.1f} over last {} episodes'.format(\\\n",
    "                                    episode - queue_len, ravg[-1], queue_len))            \n",
    "            torch.save(agent.actor_local.state_dict(), actor_path)\n",
    "            torch.save(agent.critic_local.state_dict(), critic_path)\n",
    "            break\n",
    "            \n",
    "    return mscores, ravg"
   ]
  },
  {
   "cell_type": "code",
   "execution_count": 5,
   "metadata": {},
   "outputs": [
    {
     "name": "stdout",
     "output_type": "stream",
     "text": [
      "episode no: 1 \tmean score: 0.9\taverage score: 0.9\n",
      "episode no: 2 \tmean score: 1.9\taverage score: 1.4\n",
      "episode no: 3 \tmean score: 4.1\taverage score: 2.3\n",
      "episode no: 4 \tmean score: 9.7\taverage score: 4.1\n",
      "episode no: 5 \tmean score: 20.3\taverage score: 7.4\n",
      "episode no: 6 \tmean score: 36.4\taverage score: 12.2\n",
      "episode no: 7 \tmean score: 38.3\taverage score: 15.9\n",
      "episode no: 8 \tmean score: 38.6\taverage score: 18.8\n",
      "episode no: 9 \tmean score: 39.2\taverage score: 21.0\n",
      "episode no: 10 \tmean score: 38.7\taverage score: 22.8\n",
      "episode no: 11 \tmean score: 38.9\taverage score: 24.3\n",
      "episode no: 12 \tmean score: 38.8\taverage score: 25.5\n",
      "episode no: 13 \tmean score: 39.1\taverage score: 26.5\n",
      "episode no: 14 \tmean score: 38.8\taverage score: 27.4\n",
      "episode no: 15 \tmean score: 38.9\taverage score: 28.2\n",
      "episode no: 16 \tmean score: 39.2\taverage score: 28.9\n",
      "episode no: 17 \tmean score: 39.2\taverage score: 29.5\n",
      "episode no: 18 \tmean score: 38.7\taverage score: 30.0\n",
      "episode no: 19 \tmean score: 39.2\taverage score: 30.5\n",
      "episode no: 20 \tmean score: 38.6\taverage score: 30.9\n",
      "episode no: 21 \tmean score: 38.5\taverage score: 31.2\n",
      "episode no: 22 \tmean score: 39.1\taverage score: 31.6\n",
      "episode no: 23 \tmean score: 39.1\taverage score: 31.9\n",
      "episode no: 24 \tmean score: 39.2\taverage score: 32.2\n",
      "episode no: 25 \tmean score: 38.6\taverage score: 32.5\n",
      "episode no: 26 \tmean score: 38.8\taverage score: 32.7\n",
      "episode no: 27 \tmean score: 38.6\taverage score: 32.9\n",
      "episode no: 28 \tmean score: 38.9\taverage score: 33.2\n",
      "episode no: 29 \tmean score: 38.7\taverage score: 33.3\n",
      "episode no: 30 \tmean score: 38.2\taverage score: 33.5\n",
      "episode no: 31 \tmean score: 38.3\taverage score: 33.7\n",
      "episode no: 32 \tmean score: 38.6\taverage score: 33.8\n",
      "episode no: 33 \tmean score: 38.7\taverage score: 34.0\n",
      "episode no: 34 \tmean score: 38.2\taverage score: 34.1\n",
      "episode no: 35 \tmean score: 38.5\taverage score: 34.2\n",
      "episode no: 36 \tmean score: 38.6\taverage score: 34.3\n",
      "episode no: 37 \tmean score: 38.1\taverage score: 34.4\n",
      "episode no: 38 \tmean score: 38.0\taverage score: 34.5\n",
      "episode no: 39 \tmean score: 38.7\taverage score: 34.6\n",
      "episode no: 40 \tmean score: 39.0\taverage score: 34.7\n",
      "episode no: 41 \tmean score: 39.3\taverage score: 34.9\n",
      "episode no: 42 \tmean score: 38.8\taverage score: 35.0\n",
      "episode no: 43 \tmean score: 38.6\taverage score: 35.0\n",
      "episode no: 44 \tmean score: 39.2\taverage score: 35.1\n",
      "episode no: 45 \tmean score: 38.2\taverage score: 35.2\n",
      "episode no: 46 \tmean score: 39.1\taverage score: 35.3\n",
      "episode no: 47 \tmean score: 38.9\taverage score: 35.4\n",
      "episode no: 48 \tmean score: 39.0\taverage score: 35.4\n",
      "episode no: 49 \tmean score: 38.9\taverage score: 35.5\n",
      "episode no: 50 \tmean score: 39.1\taverage score: 35.6\n",
      "episode no: 51 \tmean score: 39.2\taverage score: 35.7\n",
      "episode no: 52 \tmean score: 39.3\taverage score: 35.7\n",
      "episode no: 53 \tmean score: 38.0\taverage score: 35.8\n",
      "episode no: 54 \tmean score: 37.6\taverage score: 35.8\n",
      "episode no: 55 \tmean score: 37.5\taverage score: 35.8\n",
      "episode no: 56 \tmean score: 37.1\taverage score: 35.9\n",
      "episode no: 57 \tmean score: 36.5\taverage score: 35.9\n",
      "episode no: 58 \tmean score: 36.2\taverage score: 35.9\n",
      "episode no: 59 \tmean score: 37.3\taverage score: 35.9\n",
      "episode no: 60 \tmean score: 37.6\taverage score: 35.9\n",
      "episode no: 61 \tmean score: 37.8\taverage score: 36.0\n",
      "episode no: 62 \tmean score: 37.5\taverage score: 36.0\n",
      "episode no: 63 \tmean score: 37.0\taverage score: 36.0\n",
      "episode no: 64 \tmean score: 37.8\taverage score: 36.0\n",
      "episode no: 65 \tmean score: 39.0\taverage score: 36.1\n",
      "episode no: 66 \tmean score: 38.7\taverage score: 36.1\n",
      "episode no: 67 \tmean score: 38.5\taverage score: 36.1\n",
      "episode no: 68 \tmean score: 38.5\taverage score: 36.2\n",
      "episode no: 69 \tmean score: 38.5\taverage score: 36.2\n",
      "episode no: 70 \tmean score: 38.6\taverage score: 36.2\n",
      "episode no: 71 \tmean score: 39.1\taverage score: 36.3\n",
      "episode no: 72 \tmean score: 38.3\taverage score: 36.3\n",
      "episode no: 73 \tmean score: 38.7\taverage score: 36.3\n",
      "episode no: 74 \tmean score: 38.7\taverage score: 36.4\n",
      "episode no: 75 \tmean score: 38.5\taverage score: 36.4\n",
      "episode no: 76 \tmean score: 38.4\taverage score: 36.4\n",
      "episode no: 77 \tmean score: 38.8\taverage score: 36.5\n",
      "episode no: 78 \tmean score: 38.8\taverage score: 36.5\n",
      "episode no: 79 \tmean score: 39.2\taverage score: 36.5\n",
      "episode no: 80 \tmean score: 39.3\taverage score: 36.6\n",
      "episode no: 81 \tmean score: 38.8\taverage score: 36.6\n",
      "episode no: 82 \tmean score: 38.7\taverage score: 36.6\n",
      "episode no: 83 \tmean score: 38.9\taverage score: 36.6\n",
      "episode no: 84 \tmean score: 38.9\taverage score: 36.7\n",
      "episode no: 85 \tmean score: 38.6\taverage score: 36.7\n",
      "episode no: 86 \tmean score: 39.0\taverage score: 36.7\n",
      "episode no: 87 \tmean score: 37.6\taverage score: 36.7\n",
      "episode no: 88 \tmean score: 39.0\taverage score: 36.8\n",
      "episode no: 89 \tmean score: 39.3\taverage score: 36.8\n",
      "episode no: 90 \tmean score: 38.7\taverage score: 36.8\n",
      "episode no: 91 \tmean score: 39.0\taverage score: 36.8\n",
      "episode no: 92 \tmean score: 38.9\taverage score: 36.9\n",
      "episode no: 93 \tmean score: 38.6\taverage score: 36.9\n",
      "episode no: 94 \tmean score: 38.5\taverage score: 36.9\n",
      "episode no: 95 \tmean score: 37.1\taverage score: 36.9\n",
      "episode no: 96 \tmean score: 38.3\taverage score: 36.9\n",
      "episode no: 97 \tmean score: 36.5\taverage score: 36.9\n",
      "episode no: 98 \tmean score: 38.1\taverage score: 36.9\n",
      "episode no: 99 \tmean score: 38.7\taverage score: 36.9\n",
      "episode no: 100 \tmean score: 36.9\taverage score: 36.9\n",
      "Env solved in 0 episodes! with moving average of 36.9 over last 100 episodes\n"
     ]
    }
   ],
   "source": [
    "from ddpg_agent import Agent\n",
    "\n",
    "env_info = env.reset(train_mode=True)[brain_name]      # reset the environment    \n",
    "agent = Agent(state_size=state_size, action_size=action_size, seed=10)\n",
    "scores, avgs = train_ddpg()"
   ]
  },
  {
   "cell_type": "code",
   "execution_count": 10,
   "metadata": {},
   "outputs": [
    {
     "data": {
      "image/png": "[encoded data removed]",
      "text/plain": [
       "<Figure size 432x288 with 1 Axes>"
      ]
     },
     "metadata": {
      "needs_background": "light"
     },
     "output_type": "display_data"
    }
   ],
   "source": [
    "fig = plt.figure()\n",
    "ax = fig.add_subplot(111)\n",
    "plt.plot(np.arange(len(scores)), scores, label='ddpg')\n",
    "plt.plot(np.arange(len(scores)), avgs, c='r', label='moving avg')\n",
    "plt.ylabel('scores')\n",
    "plt.xlabel('episode #')\n",
    "plt.legend(loc='lower right', frameon=False)\n",
    "plt.show()"
   ]
  },
  {
   "cell_type": "code",
   "execution_count": 7,
   "metadata": {},
   "outputs": [],
   "source": [
    "env.close()"
   ]
  },
  {
   "cell_type": "code",
   "execution_count": null,
   "metadata": {},
   "outputs": [],
   "source": []
  }
 ],
 "metadata": {
  "kernelspec": {
   "display_name": "Python 3",
   "language": "python",
   "name": "python3"
  },
  "language_info": {
   "codemirror_mode": {
    "name": "ipython",
    "version": 3
   },
   "file_extension": ".py",
   "mimetype": "text/x-python",
   "name": "python",
   "nbconvert_exporter": "python",
   "pygments_lexer": "ipython3",
   "version": "3.6.9"
  }
 },
 "nbformat": 4,
 "nbformat_minor": 2
}
